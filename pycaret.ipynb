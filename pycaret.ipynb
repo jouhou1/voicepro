{
 "cells": [
  {
   "cell_type": "code",
   "execution_count": null,
   "metadata": {},
   "outputs": [],
   "source": [
    "import os\n",
    "import numpy as np\n",
    "import pandas as pd\n",
    "import librosa\n",
    "\n",
    "#声優の声データからMFCC（声の特徴量）を抽出し、表にまとめる。\n",
    "\n",
    "X_data = []  # 特徴行列\n",
    "y_data = []  # クラスラベルデータ\n",
    "speakers_number = 7 # 声優の人数\n",
    "files_number = 100 # 一人あたりのサンプルの数\n",
    "\n",
    "for speaker_num in range(1, speakers_number + 1):  # 声優フォルダの数だけ繰り返し処理\n",
    "    # ボイスサンプルがあるフォルダ名\n",
    "    dir_name = f'VoiceSamples/{str(speaker_num).zfill(3)}'\n",
    "    file_list = os.listdir(dir_name)\n",
    "    for i in range(files_number):\n",
    "        file_path = os.path.join(dir_name, file_list[i])  # 音声ファイルへのパス\n",
    "        y, sr = librosa.load(file_path)  # 音声ファイルを読み込む\n",
    "        mfcc = librosa.feature.mfcc(y, sr)  # MFCC\n",
    "        mfcc = np.average(mfcc, axis=1)  # 時間平均を取る\n",
    "        mfcc = mfcc.flatten()\n",
    "        mfcc = mfcc.tolist()\n",
    "        mfcc = mfcc[1:13]  # 低次の係数を取り出す（12次まで取り出すことが多い）\n",
    "        X_data.append(mfcc)\n",
    "        y_data.append(speaker_num)\n",
    "\n",
    "X = pd.DataFrame(X_data, columns=[f'mfcc_{n}' for n in range(1, 13)]) # mfcc_1,mfcc_2,..のように行のタイトルをつける\n",
    "y = pd.DataFrame({'target': y_data}) # targetタイトルを追加\n",
    "\n",
    "df = pd.concat([X, y], axis=1) # 合体！！！！！！\n",
    "df.to_csv('mfcc.csv', index=False)  # csvで保存\n",
    "df.head() # 見せてほしいな"
   ]
  },
  {
   "cell_type": "code",
   "execution_count": null,
   "metadata": {},
   "outputs": [],
   "source": [
    "\n",
    "import pandas as pd\n",
    "from pycaret.regression import *\n",
    "\n",
    "# 機械学習前の下準備を行う。以下、Pycaretの関数を使う場合このセルを実行してから使うこと\n",
    "\n",
    "mfcc_data = pd.read_csv(\"mfcc.csv\") # MFCCのデータを読み込む\n",
    "# データの前準備(以下、Pycaretの関数を使う場合setupを呼び出してから使うこと)\n",
    "reg = setup(data=mfcc_data, target='target', data_split_shuffle=True, use_gpu=True, silent=True, fold=5, n_jobs=-1)\n"
   ]
  },
  {
   "cell_type": "code",
   "execution_count": null,
   "metadata": {},
   "outputs": [],
   "source": [
    "# 機械学習のモデルを複数比較し、精度が高かったモデルを表示する。\n",
    "\n",
    "compare_models()"
   ]
  },
  {
   "cell_type": "code",
   "execution_count": 15,
   "metadata": {},
   "outputs": [
    {
     "data": {
      "text/html": [
       "<style type=\"text/css\">\n",
       "#T_673f5_row5_col0, #T_673f5_row5_col1, #T_673f5_row5_col2, #T_673f5_row5_col3, #T_673f5_row5_col4, #T_673f5_row5_col5 {\n",
       "  background: yellow;\n",
       "}\n",
       "</style>\n",
       "<table id=\"T_673f5\">\n",
       "  <thead>\n",
       "    <tr>\n",
       "      <th class=\"blank level0\" >&nbsp;</th>\n",
       "      <th id=\"T_673f5_level0_col0\" class=\"col_heading level0 col0\" >MAE</th>\n",
       "      <th id=\"T_673f5_level0_col1\" class=\"col_heading level0 col1\" >MSE</th>\n",
       "      <th id=\"T_673f5_level0_col2\" class=\"col_heading level0 col2\" >RMSE</th>\n",
       "      <th id=\"T_673f5_level0_col3\" class=\"col_heading level0 col3\" >R2</th>\n",
       "      <th id=\"T_673f5_level0_col4\" class=\"col_heading level0 col4\" >RMSLE</th>\n",
       "      <th id=\"T_673f5_level0_col5\" class=\"col_heading level0 col5\" >MAPE</th>\n",
       "    </tr>\n",
       "    <tr>\n",
       "      <th class=\"index_name level0\" >Fold</th>\n",
       "      <th class=\"blank col0\" >&nbsp;</th>\n",
       "      <th class=\"blank col1\" >&nbsp;</th>\n",
       "      <th class=\"blank col2\" >&nbsp;</th>\n",
       "      <th class=\"blank col3\" >&nbsp;</th>\n",
       "      <th class=\"blank col4\" >&nbsp;</th>\n",
       "      <th class=\"blank col5\" >&nbsp;</th>\n",
       "    </tr>\n",
       "  </thead>\n",
       "  <tbody>\n",
       "    <tr>\n",
       "      <th id=\"T_673f5_level0_row0\" class=\"row_heading level0 row0\" >0</th>\n",
       "      <td id=\"T_673f5_row0_col0\" class=\"data row0 col0\" >1.1473</td>\n",
       "      <td id=\"T_673f5_row0_col1\" class=\"data row0 col1\" >1.9948</td>\n",
       "      <td id=\"T_673f5_row0_col2\" class=\"data row0 col2\" >1.4124</td>\n",
       "      <td id=\"T_673f5_row0_col3\" class=\"data row0 col3\" >0.5042</td>\n",
       "      <td id=\"T_673f5_row0_col4\" class=\"data row0 col4\" >0.3792</td>\n",
       "      <td id=\"T_673f5_row0_col5\" class=\"data row0 col5\" >0.6227</td>\n",
       "    </tr>\n",
       "    <tr>\n",
       "      <th id=\"T_673f5_level0_row1\" class=\"row_heading level0 row1\" >1</th>\n",
       "      <td id=\"T_673f5_row1_col0\" class=\"data row1 col0\" >1.2014</td>\n",
       "      <td id=\"T_673f5_row1_col1\" class=\"data row1 col1\" >2.3295</td>\n",
       "      <td id=\"T_673f5_row1_col2\" class=\"data row1 col2\" >1.5263</td>\n",
       "      <td id=\"T_673f5_row1_col3\" class=\"data row1 col3\" >0.4368</td>\n",
       "      <td id=\"T_673f5_row1_col4\" class=\"data row1 col4\" >0.3457</td>\n",
       "      <td id=\"T_673f5_row1_col5\" class=\"data row1 col5\" >0.4675</td>\n",
       "    </tr>\n",
       "    <tr>\n",
       "      <th id=\"T_673f5_level0_row2\" class=\"row_heading level0 row2\" >2</th>\n",
       "      <td id=\"T_673f5_row2_col0\" class=\"data row2 col0\" >1.0217</td>\n",
       "      <td id=\"T_673f5_row2_col1\" class=\"data row2 col1\" >1.7889</td>\n",
       "      <td id=\"T_673f5_row2_col2\" class=\"data row2 col2\" >1.3375</td>\n",
       "      <td id=\"T_673f5_row2_col3\" class=\"data row2 col3\" >0.5353</td>\n",
       "      <td id=\"T_673f5_row2_col4\" class=\"data row2 col4\" >0.2780</td>\n",
       "      <td id=\"T_673f5_row2_col5\" class=\"data row2 col5\" >0.3223</td>\n",
       "    </tr>\n",
       "    <tr>\n",
       "      <th id=\"T_673f5_level0_row3\" class=\"row_heading level0 row3\" >3</th>\n",
       "      <td id=\"T_673f5_row3_col0\" class=\"data row3 col0\" >1.1822</td>\n",
       "      <td id=\"T_673f5_row3_col1\" class=\"data row3 col1\" >2.3691</td>\n",
       "      <td id=\"T_673f5_row3_col2\" class=\"data row3 col2\" >1.5392</td>\n",
       "      <td id=\"T_673f5_row3_col3\" class=\"data row3 col3\" >0.3496</td>\n",
       "      <td id=\"T_673f5_row3_col4\" class=\"data row3 col4\" >0.3393</td>\n",
       "      <td id=\"T_673f5_row3_col5\" class=\"data row3 col5\" >0.3989</td>\n",
       "    </tr>\n",
       "    <tr>\n",
       "      <th id=\"T_673f5_level0_row4\" class=\"row_heading level0 row4\" >4</th>\n",
       "      <td id=\"T_673f5_row4_col0\" class=\"data row4 col0\" >1.0508</td>\n",
       "      <td id=\"T_673f5_row4_col1\" class=\"data row4 col1\" >1.8213</td>\n",
       "      <td id=\"T_673f5_row4_col2\" class=\"data row4 col2\" >1.3496</td>\n",
       "      <td id=\"T_673f5_row4_col3\" class=\"data row4 col3\" >0.5464</td>\n",
       "      <td id=\"T_673f5_row4_col4\" class=\"data row4 col4\" >0.3229</td>\n",
       "      <td id=\"T_673f5_row4_col5\" class=\"data row4 col5\" >0.4456</td>\n",
       "    </tr>\n",
       "    <tr>\n",
       "      <th id=\"T_673f5_level0_row5\" class=\"row_heading level0 row5\" >Mean</th>\n",
       "      <td id=\"T_673f5_row5_col0\" class=\"data row5 col0\" >1.1207</td>\n",
       "      <td id=\"T_673f5_row5_col1\" class=\"data row5 col1\" >2.0607</td>\n",
       "      <td id=\"T_673f5_row5_col2\" class=\"data row5 col2\" >1.4330</td>\n",
       "      <td id=\"T_673f5_row5_col3\" class=\"data row5 col3\" >0.4745</td>\n",
       "      <td id=\"T_673f5_row5_col4\" class=\"data row5 col4\" >0.3330</td>\n",
       "      <td id=\"T_673f5_row5_col5\" class=\"data row5 col5\" >0.4514</td>\n",
       "    </tr>\n",
       "    <tr>\n",
       "      <th id=\"T_673f5_level0_row6\" class=\"row_heading level0 row6\" >Std</th>\n",
       "      <td id=\"T_673f5_row6_col0\" class=\"data row6 col0\" >0.0717</td>\n",
       "      <td id=\"T_673f5_row6_col1\" class=\"data row6 col1\" >0.2461</td>\n",
       "      <td id=\"T_673f5_row6_col2\" class=\"data row6 col2\" >0.0854</td>\n",
       "      <td id=\"T_673f5_row6_col3\" class=\"data row6 col3\" >0.0732</td>\n",
       "      <td id=\"T_673f5_row6_col4\" class=\"data row6 col4\" >0.0331</td>\n",
       "      <td id=\"T_673f5_row6_col5\" class=\"data row6 col5\" >0.0991</td>\n",
       "    </tr>\n",
       "  </tbody>\n",
       "</table>\n"
      ],
      "text/plain": [
       "<pandas.io.formats.style.Styler at 0x7d99d7f0f6d0>"
      ]
     },
     "metadata": {},
     "output_type": "display_data"
    },
    {
     "data": {
      "text/html": [
       "<style type=\"text/css\">\n",
       "</style>\n",
       "<table id=\"T_24a23\">\n",
       "  <thead>\n",
       "    <tr>\n",
       "      <th class=\"blank level0\" >&nbsp;</th>\n",
       "      <th id=\"T_24a23_level0_col0\" class=\"col_heading level0 col0\" >Model</th>\n",
       "      <th id=\"T_24a23_level0_col1\" class=\"col_heading level0 col1\" >MAE</th>\n",
       "      <th id=\"T_24a23_level0_col2\" class=\"col_heading level0 col2\" >MSE</th>\n",
       "      <th id=\"T_24a23_level0_col3\" class=\"col_heading level0 col3\" >RMSE</th>\n",
       "      <th id=\"T_24a23_level0_col4\" class=\"col_heading level0 col4\" >R2</th>\n",
       "      <th id=\"T_24a23_level0_col5\" class=\"col_heading level0 col5\" >RMSLE</th>\n",
       "      <th id=\"T_24a23_level0_col6\" class=\"col_heading level0 col6\" >MAPE</th>\n",
       "    </tr>\n",
       "  </thead>\n",
       "  <tbody>\n",
       "    <tr>\n",
       "      <th id=\"T_24a23_level0_row0\" class=\"row_heading level0 row0\" >0</th>\n",
       "      <td id=\"T_24a23_row0_col0\" class=\"data row0 col0\" >Extra Trees Regressor</td>\n",
       "      <td id=\"T_24a23_row0_col1\" class=\"data row0 col1\" >1.0134</td>\n",
       "      <td id=\"T_24a23_row0_col2\" class=\"data row0 col2\" >1.6936</td>\n",
       "      <td id=\"T_24a23_row0_col3\" class=\"data row0 col3\" >1.3014</td>\n",
       "      <td id=\"T_24a23_row0_col4\" class=\"data row0 col4\" >0.5689</td>\n",
       "      <td id=\"T_24a23_row0_col5\" class=\"data row0 col5\" >0.3122</td>\n",
       "      <td id=\"T_24a23_row0_col6\" class=\"data row0 col6\" >0.4253</td>\n",
       "    </tr>\n",
       "  </tbody>\n",
       "</table>\n"
      ],
      "text/plain": [
       "<pandas.io.formats.style.Styler at 0x7d99f3f9e940>"
      ]
     },
     "metadata": {},
     "output_type": "display_data"
    }
   ],
   "source": [
    "from pycaret.regression import *\n",
    "# 最も精度が高かったモデルを生成\n",
    "\n",
    "model = create_model('et') # モデルを生成（）\n",
    "#tuned_model = tune_model(model) # モデルを調整...すると精度落ちるの何...しないほうがいいのか？\n",
    "predict_data = predict_model(model) # 既存のデータで予測\n",
    "predict_data.to_csv('predict_result.csv', index=False)  # csvで保存\n"
   ]
  },
  {
   "cell_type": "code",
   "execution_count": 16,
   "metadata": {},
   "outputs": [
    {
     "name": "stdout",
     "output_type": "stream",
     "text": [
      "Transformation Pipeline and Model Successfully Saved\n"
     ]
    },
    {
     "data": {
      "text/plain": [
       "(Pipeline(memory=None,\n",
       "          steps=[('dtypes',\n",
       "                  DataTypes_Auto_infer(categorical_features=[],\n",
       "                                       display_types=False, features_todrop=[],\n",
       "                                       id_columns=[], ml_usecase='regression',\n",
       "                                       numerical_features=[], target='target',\n",
       "                                       time_features=[])),\n",
       "                 ('imputer',\n",
       "                  Simple_Imputer(categorical_strategy='not_available',\n",
       "                                 fill_value_categorical=None,\n",
       "                                 fill_value_numerical=None,\n",
       "                                 numeric_strategy...\n",
       "                  ExtraTreesRegressor(bootstrap=False, ccp_alpha=0.0,\n",
       "                                      criterion='mse', max_depth=None,\n",
       "                                      max_features='auto', max_leaf_nodes=None,\n",
       "                                      max_samples=None,\n",
       "                                      min_impurity_decrease=0.0,\n",
       "                                      min_impurity_split=None,\n",
       "                                      min_samples_leaf=1, min_samples_split=2,\n",
       "                                      min_weight_fraction_leaf=0.0,\n",
       "                                      n_estimators=100, n_jobs=-1,\n",
       "                                      oob_score=False, random_state=4927,\n",
       "                                      verbose=0, warm_start=False)]],\n",
       "          verbose=False),\n",
       " 'Final Model.pkl')"
      ]
     },
     "execution_count": 16,
     "metadata": {},
     "output_type": "execute_result"
    }
   ],
   "source": [
    "final_model = finalize_model(model)\n",
    "save_model(final_model,'Final Model')"
   ]
  },
  {
   "cell_type": "code",
   "execution_count": 6,
   "metadata": {},
   "outputs": [
    {
     "name": "stdout",
     "output_type": "stream",
     "text": [
      "Transformation Pipeline and Model Successfully Loaded\n"
     ]
    }
   ],
   "source": [
    "from pycaret.regression import *\n",
    "\n",
    "final_model = load_model('Final Model') # モデルの読み込み"
   ]
  },
  {
   "cell_type": "code",
   "execution_count": 20,
   "metadata": {},
   "outputs": [
    {
     "name": "stdout",
     "output_type": "stream",
     "text": [
      "録音開始\n",
      "録音終了\n"
     ]
    }
   ],
   "source": [
    "import sounddevice as sd\n",
    "import wave\n",
    "import numpy as np\n",
    "\n",
    "#音声を録音\n",
    "\n",
    "FILE_NAME = 'my_recording.wav'  # 保存するファイル名\n",
    "wave_length = 5  # 録音する長さ（秒）\n",
    "sample_rate = 16_000  # サンプリング周波数\n",
    "\n",
    "print(\"録音開始\")\n",
    "# 録音開始（wave_length秒間録音。wait で録音し終わるまで待つ）\n",
    "data = sd.rec(int(wave_length * sample_rate), sample_rate, channels=1)\n",
    "sd.wait()\n",
    "print(\"録音終了\")\n",
    "\n",
    "# ノーマライズ。量子化ビット16bitで録音するので int16 の範囲で最大化する\n",
    "data = data / data.max() * np.iinfo(np.int16).max\n",
    "\n",
    "# float -> int\n",
    "data = data.astype(np.int16)\n",
    "\n",
    "# ファイル保存\n",
    "with wave.open(FILE_NAME, mode='wb') as wb:\n",
    "    wb.setnchannels(1)  # モノラル\n",
    "    wb.setsampwidth(2)  # 16bit=2byte\n",
    "    wb.setframerate(sample_rate)\n",
    "    wb.writeframes(data.tobytes())  # バイト列に変換\n"
   ]
  },
  {
   "cell_type": "code",
   "execution_count": 4,
   "metadata": {},
   "outputs": [
    {
     "data": {
      "text/html": [
       "<div>\n",
       "<style scoped>\n",
       "    .dataframe tbody tr th:only-of-type {\n",
       "        vertical-align: middle;\n",
       "    }\n",
       "\n",
       "    .dataframe tbody tr th {\n",
       "        vertical-align: top;\n",
       "    }\n",
       "\n",
       "    .dataframe thead th {\n",
       "        text-align: right;\n",
       "    }\n",
       "</style>\n",
       "<table border=\"1\" class=\"dataframe\">\n",
       "  <thead>\n",
       "    <tr style=\"text-align: right;\">\n",
       "      <th></th>\n",
       "      <th>mfcc_1</th>\n",
       "      <th>mfcc_2</th>\n",
       "      <th>mfcc_3</th>\n",
       "      <th>mfcc_4</th>\n",
       "      <th>mfcc_5</th>\n",
       "      <th>mfcc_6</th>\n",
       "      <th>mfcc_7</th>\n",
       "      <th>mfcc_8</th>\n",
       "      <th>mfcc_9</th>\n",
       "      <th>mfcc_10</th>\n",
       "      <th>mfcc_11</th>\n",
       "      <th>mfcc_12</th>\n",
       "    </tr>\n",
       "  </thead>\n",
       "  <tbody>\n",
       "    <tr>\n",
       "      <th>0</th>\n",
       "      <td>61.791355</td>\n",
       "      <td>-18.600464</td>\n",
       "      <td>18.558226</td>\n",
       "      <td>-1.541007</td>\n",
       "      <td>-2.50288</td>\n",
       "      <td>0.355464</td>\n",
       "      <td>-0.349908</td>\n",
       "      <td>-7.095498</td>\n",
       "      <td>1.180879</td>\n",
       "      <td>-10.101668</td>\n",
       "      <td>4.389037</td>\n",
       "      <td>-3.882792</td>\n",
       "    </tr>\n",
       "  </tbody>\n",
       "</table>\n",
       "</div>"
      ],
      "text/plain": [
       "      mfcc_1     mfcc_2     mfcc_3    mfcc_4   mfcc_5    mfcc_6    mfcc_7  \\\n",
       "0  61.791355 -18.600464  18.558226 -1.541007 -2.50288  0.355464 -0.349908   \n",
       "\n",
       "     mfcc_8    mfcc_9    mfcc_10   mfcc_11   mfcc_12  \n",
       "0 -7.095498  1.180879 -10.101668  4.389037 -3.882792  "
      ]
     },
     "execution_count": 4,
     "metadata": {},
     "output_type": "execute_result"
    }
   ],
   "source": [
    "import pandas as pd\n",
    "import librosa\n",
    "import numpy as np\n",
    "\n",
    "###MFCCを抽出###\n",
    "\n",
    "data = []\n",
    "TEST_FILE_NAME = \"test.wav\"\n",
    "\n",
    "y, sr = librosa.load(TEST_FILE_NAME)  # 音声ファイルを読み込む\n",
    "mfcc = librosa.feature.mfcc(y, sr)  # MFCC\n",
    "mfcc = np.average(mfcc, axis=1)  # 時間平均を取る\n",
    "mfcc = mfcc.flatten()\n",
    "mfcc = mfcc.tolist()\n",
    "mfcc = mfcc[1:13]  # 低次の係数を取り出す（12次まで取り出すことが多い）\n",
    "data.append(mfcc)\n",
    "\n",
    "df = pd.DataFrame(data, columns=[f'mfcc_{n}' for n in range(1, 13)])\n",
    "\n",
    "df.to_csv('mfcc_my_recording.csv', index=False)  # csvで保存\n",
    "df.head()"
   ]
  },
  {
   "cell_type": "code",
   "execution_count": 7,
   "metadata": {},
   "outputs": [
    {
     "name": "stdout",
     "output_type": "stream",
     "text": [
      "あなたの声は鬼頭明里に似ています。\n",
      "予測値：2.66\n"
     ]
    }
   ],
   "source": [
    "from decimal import Decimal, ROUND_HALF_UP, ROUND_HALF_EVEN\n",
    "from pycaret.regression import *\n",
    "\n",
    "#録音した音声データからどの声優に似ているかを特定\n",
    "\n",
    "actors = [\"下野紘\", \"花江夏樹\", \"梶裕貴\", \"沢城みゆき\", \"鬼頭明里\", \"水瀬いのり\", \"悠木碧\"]\n",
    "\n",
    "predict_my_recording = predict_model(final_model, data = pd.read_csv(\"mfcc_my_recording.csv\")) # 未知データを予測\n",
    "predict_label = predict_my_recording.at[0, \"Label\"] # 予測データを取得（小数点数）\n",
    "voice_actor_number = Decimal(str(predict_label)).quantize(Decimal('0'), rounding=ROUND_HALF_UP) # 整数に四捨五入\n",
    "print(\"あなたの声は\" + actors[int(voice_actor_number-1)] + \"に似ています。\")\n",
    "print(\"予測値：\" + str(predict_label))"
   ]
  }
 ],
 "metadata": {
  "kernelspec": {
   "display_name": "voicepro",
   "language": "python",
   "name": "python3"
  },
  "language_info": {
   "codemirror_mode": {
    "name": "ipython",
    "version": 3
   },
   "file_extension": ".py",
   "mimetype": "text/x-python",
   "name": "python",
   "nbconvert_exporter": "python",
   "pygments_lexer": "ipython3",
   "version": "3.9.2 (default, Feb 28 2021, 17:03:44) \n[GCC 10.2.1 20210110]"
  },
  "orig_nbformat": 4,
  "vscode": {
   "interpreter": {
    "hash": "0f851e7d60498e4c856c45d591b0ef68acd2607c354303225ef1533b02fefcf2"
   }
  }
 },
 "nbformat": 4,
 "nbformat_minor": 2
}
