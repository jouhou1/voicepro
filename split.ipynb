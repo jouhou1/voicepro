{
 "cells": [
  {
   "attachments": {},
   "cell_type": "markdown",
   "metadata": {},
   "source": [
    "Sourceフォルダ内にある声優別に分けられた音声ファイルを一文ごとに分割し、VoiceSampleフォルダへ分割したファイルを出力する。Sourceフォルダにあったファイルは削除される。"
   ]
  },
  {
   "cell_type": "code",
   "execution_count": 1,
   "metadata": {},
   "outputs": [
    {
     "name": "stdout",
     "output_type": "stream",
     "text": [
      "Source/001/hanae2.wav\n"
     ]
    }
   ],
   "source": [
    "from pydub import AudioSegment\n",
    "from pydub.silence import split_on_silence\n",
    "import os\n",
    "\n",
    "sourceFolder = \"Source\"\n",
    "targetFolder = \"VoiceSample\"\n",
    "\n",
    "folders = os.listdir(sourceFolder)\n",
    "for folder in folders:\n",
    "    srcFolderPath = os.path.join(sourceFolder, folder)\n",
    "    tarFolderPath = os.path.join(targetFolder, folder)\n",
    "    files = os.listdir(srcFolderPath)\n",
    "\n",
    "    for f in files:\n",
    "        path = os.path.join(srcFolderPath, f)\n",
    "        fileName = f[:len(f) - 4]\n",
    "        print(path)\n",
    "        if os.path.isdir(path):\n",
    "            continue\n",
    "        # wavファイルのデータ取得\n",
    "        sound = AudioSegment.from_file(path, format=\"wav\")\n",
    "\n",
    "        # wavデータの分割（無音部分で区切る）\n",
    "        chunks = split_on_silence(sound, min_silence_len=500, silence_thresh=-40, keep_silence=500)\n",
    "\n",
    "        if(not os.path.exists(tarFolderPath)):\n",
    "            os.mkdir(tarFolderPath)\n",
    "\n",
    "        # 分割したデータ毎にファイルに出力\n",
    "        for i, chunk in enumerate(chunks):\n",
    "            chunk.export(tarFolderPath + \"/\" + fileName + \"-\" + str(i) +\".wav\", format=\"wav\")\n",
    "        \n",
    "        os.remove(path)"
   ]
  }
 ],
 "metadata": {
  "kernelspec": {
   "display_name": "voicepro",
   "language": "python",
   "name": "python3"
  },
  "language_info": {
   "codemirror_mode": {
    "name": "ipython",
    "version": 3
   },
   "file_extension": ".py",
   "mimetype": "text/x-python",
   "name": "python",
   "nbconvert_exporter": "python",
   "pygments_lexer": "ipython3",
   "version": "3.9.2"
  },
  "orig_nbformat": 4,
  "vscode": {
   "interpreter": {
    "hash": "0f851e7d60498e4c856c45d591b0ef68acd2607c354303225ef1533b02fefcf2"
   }
  }
 },
 "nbformat": 4,
 "nbformat_minor": 2
}
