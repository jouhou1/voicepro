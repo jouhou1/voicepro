{
 "cells": [
  {
   "attachments": {},
   "cell_type": "markdown",
   "metadata": {},
   "source": [
    "Sourceフォルダ内にある声優別に分けられた音声ファイルを一文ごとに分割し、VoiceSampleフォルダへ分割したファイルを出力する。Sourceフォルダにあったファイルは削除される。"
   ]
  },
  {
   "cell_type": "code",
   "execution_count": 21,
   "metadata": {},
   "outputs": [
    {
     "name": "stdout",
     "output_type": "stream",
     "text": [
      "Source/007/YukiAoi_NA03.mp3\n",
      "Source/007/YukiAoi_NA02.mp3\n",
      "Source/007/YukiAoi_NA01.mp3\n",
      "Source/007/YukiAoi_se07.mp3\n",
      "Source/007/YukiAoi_se06.mp3\n",
      "Source/007/YukiAoi_se05.mp3\n",
      "Source/007/YukiAoi_se04.mp3\n",
      "Source/007/YukiAoi_se03.mp3\n",
      "Source/007/YukiAoi_se01.mp3\n",
      "Source/007/YukiAoi_se02.mp3\n"
     ]
    }
   ],
   "source": [
    "from pydub import AudioSegment\n",
    "from pydub.silence import split_on_silence\n",
    "import os\n",
    "\n",
    "sourceFolder = \"Source\"\n",
    "targetFolder = \"VoiceSample\"\n",
    "\n",
    "folders = os.listdir(sourceFolder)\n",
    "\n",
    "#Sourceフォルダ内のフォルダを順に処理\n",
    "for folder in folders:\n",
    "    srcFolderPath = os.path.join(sourceFolder, folder)\n",
    "    tarFolderPath = os.path.join(targetFolder, folder)\n",
    "    files = os.listdir(srcFolderPath)\n",
    "\n",
    "    for f in files:\n",
    "        path = os.path.join(srcFolderPath, f)\n",
    "        fileName = f[:len(f) - 4]\n",
    "\n",
    "        if os.path.isdir(path) | (f == \".gitkeep\"):\n",
    "            continue\n",
    "\n",
    "        print(path)\n",
    "        # wavファイルのデータ取得\n",
    "        sound = AudioSegment.from_file(path)\n",
    "\n",
    "        # wavデータの分割（無音部分で区切る）\n",
    "        chunks = split_on_silence(sound, min_silence_len=500, silence_thresh=-40, keep_silence=500)\n",
    "\n",
    "        if(not os.path.exists(tarFolderPath)):\n",
    "            os.mkdir(tarFolderPath)\n",
    "\n",
    "        # 分割したデータ毎にファイルに出力\n",
    "        for i, chunk in enumerate(chunks):\n",
    "            chunk.export(tarFolderPath + \"/\" + fileName + \"-\" + str(i) +\".wav\", format=\"wav\")\n",
    "        \n",
    "        # Sourceファイルを削除\n",
    "        os.remove(path)"
   ]
  }
 ],
 "metadata": {
  "kernelspec": {
   "display_name": "voicepro",
   "language": "python",
   "name": "python3"
  },
  "language_info": {
   "codemirror_mode": {
    "name": "ipython",
    "version": 3
   },
   "file_extension": ".py",
   "mimetype": "text/x-python",
   "name": "python",
   "nbconvert_exporter": "python",
   "pygments_lexer": "ipython3",
   "version": "3.9.2 (default, Feb 28 2021, 17:03:44) \n[GCC 10.2.1 20210110]"
  },
  "orig_nbformat": 4,
  "vscode": {
   "interpreter": {
    "hash": "0f851e7d60498e4c856c45d591b0ef68acd2607c354303225ef1533b02fefcf2"
   }
  }
 },
 "nbformat": 4,
 "nbformat_minor": 2
}
