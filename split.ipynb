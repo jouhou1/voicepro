{
 "cells": [
  {
   "attachments": {},
   "cell_type": "markdown",
   "metadata": {},
   "source": [
    "Sourceフォルダ内にある声優別に分けられた音声ファイルを一文ごとに分割し、VoiceSampleフォルダへ分割したファイルを出力する。Sourceフォルダにあったファイルは削除される。"
   ]
  },
  {
   "cell_type": "code",
   "execution_count": 7,
   "metadata": {},
   "outputs": [
    {
     "name": "stdout",
     "output_type": "stream",
     "text": [
      "Source/002/窮地なれど死地にあらず….mp3\n",
      "Source/002/すなわちここは阿鼻叫喚。.mp3\n",
      "Source/002/成敗（ブレイク）！.mp3\n",
      "Source/002/発破！.mp3\n",
      "Source/002/しゅっ！.mp3\n",
      "Source/002/せい！.mp3\n",
      "Source/002/では切り札を.mp3\n",
      "Source/002/御用とあらば.mp3\n",
      "Source/002/承知.mp3\n",
      "Source/002/急所を突きましょう.mp3\n",
      "Source/002/辞世の句でも詠んでおけ….mp3\n",
      "Source/002/血路を開きます.mp3\n",
      "Source/002/それでは、その……参りま.mp3\n",
      "Source/002/どうか、恨まないでほしい.mp3\n",
      "Source/002/あ！プレゼントが届いてる.mp3\n",
      "Source/002/新しいメッセージがきてま.mp3\n",
      "Source/002/Ｂ－ＰＲＯＪＥＣＴ　無敵.mp3\n",
      "Source/002/えへへ.mp3\n",
      "Source/002/あ！もしかして差し入れ？.mp3\n",
      "Source/002/テンション上げていこ～♪.mp3\n",
      "Source/002/美味しいおやつはパワーの.mp3\n",
      "Source/002/嬉しそうな顔して…何かい.mp3\n",
      "Source/002/僕一人で充分だよ。それと.mp3\n",
      "Source/002/僕の瞳をじっと見て…そう.mp3\n",
      "Source/002/そんなに触れないでくれる.mp3\n",
      "Source/002/君、やっぱり面白いねー！.mp3\n",
      "Source/002/君は先に寝るといいよ。僕.mp3\n",
      "Source/002/ねえ僕、おなかすいちゃっ.mp3\n",
      "Source/002/おはよー！あははっ髪ボサ.mp3\n",
      "Source/002/あなたに、触れたい…もっ.mp3\n",
      "Source/002/たとえこの命が果てたとし.mp3\n",
      "Source/002/そのように触れられると….mp3\n",
      "Source/002/……こうやって触れ合える.mp3\n",
      "Source/002/……いいのです、もっと近.mp3\n",
      "Source/002/あなたという人は…胸が、 (1).mp3\n",
      "Source/002/あなたという人は…胸が、.mp3\n",
      "Source/002/見事です。花のように美し.mp3\n",
      "Source/002/上手ですよ、大丈夫……あ.mp3\n",
      "Source/002/どこへでも一緒に…まいり.mp3\n",
      "Source/002/強くなりたい…あなたと一.mp3\n",
      "Source/002/またあなたにお会いするこ.mp3\n",
      "Source/002/怪我はありませんか？…よ.mp3\n",
      "Source/002/大丈夫です、私の後ろに (1).mp3\n",
      "Source/002/参ります！.mp3\n",
      "Source/002/花びらが散ってしまう前に.mp3\n",
      "Source/002/大丈夫です.mp3\n",
      "Source/002/くっ….mp3\n",
      "Source/002/はっ.mp3\n",
      "Source/002/お疲れ様でした.mp3\n",
      "Source/002/大丈夫です、私の後ろに.mp3\n",
      "Source/002/花は、儚い。けれど私は、.mp3\n",
      "Source/002/あなたは……本当に無邪気.mp3\n",
      "Source/002/うっ……私は大丈夫です。.mp3\n",
      "Source/002/遅くまで無理をなさらない.mp3\n",
      "Source/002/お花見……？桜を眺めるこ.mp3\n",
      "Source/002/……雨が降って、桜の花び.mp3\n",
      "Source/002/令呪を以て我が肉体に命ず.mp3\n"
     ]
    }
   ],
   "source": [
    "from pydub import AudioSegment\n",
    "from pydub.silence import split_on_silence\n",
    "import os\n",
    "\n",
    "sourceFolder = \"Source\"\n",
    "targetFolder = \"VoiceSample\"\n",
    "\n",
    "folders = os.listdir(sourceFolder)\n",
    "\n",
    "#Sourceフォルダ内のフォルダを順に処理\n",
    "for folder in folders:\n",
    "    srcFolderPath = os.path.join(sourceFolder, folder)\n",
    "    tarFolderPath = os.path.join(targetFolder, folder)\n",
    "    files = os.listdir(srcFolderPath)\n",
    "\n",
    "    for f in files:\n",
    "        path = os.path.join(srcFolderPath, f)\n",
    "        fileName = f[:len(f) - 4]\n",
    "\n",
    "        if os.path.isdir(path) | (f == \".gitkeep\"):\n",
    "            continue\n",
    "\n",
    "        print(path)\n",
    "        # wavファイルのデータ取得\n",
    "        sound = AudioSegment.from_file(path)\n",
    "\n",
    "        # wavデータの分割（無音部分で区切る）\n",
    "        chunks = split_on_silence(sound, min_silence_len=500, silence_thresh=-40, keep_silence=500)\n",
    "\n",
    "        if(not os.path.exists(tarFolderPath)):\n",
    "            os.mkdir(tarFolderPath)\n",
    "\n",
    "        # 分割したデータ毎にファイルに出力\n",
    "        for i, chunk in enumerate(chunks):\n",
    "            chunk.export(tarFolderPath + \"/\" + fileName + \"-\" + str(i) +\".wav\", format=\"wav\")\n",
    "        \n",
    "        # Sourceファイルを削除\n",
    "        os.remove(path)"
   ]
  }
 ],
 "metadata": {
  "kernelspec": {
   "display_name": "voicepro",
   "language": "python",
   "name": "python3"
  },
  "language_info": {
   "codemirror_mode": {
    "name": "ipython",
    "version": 3
   },
   "file_extension": ".py",
   "mimetype": "text/x-python",
   "name": "python",
   "nbconvert_exporter": "python",
   "pygments_lexer": "ipython3",
   "version": "3.9.2"
  },
  "orig_nbformat": 4,
  "vscode": {
   "interpreter": {
    "hash": "0f851e7d60498e4c856c45d591b0ef68acd2607c354303225ef1533b02fefcf2"
   }
  }
 },
 "nbformat": 4,
 "nbformat_minor": 2
}
