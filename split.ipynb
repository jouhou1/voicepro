{
 "cells": [
  {
   "attachments": {},
   "cell_type": "markdown",
   "metadata": {},
   "source": [
    "Sourceフォルダ内にある声優別に分けられた音声ファイルを一文ごとに分割し、VoiceSampleフォルダへ分割したファイルを出力する。Sourceフォルダにあったファイルは削除される。"
   ]
  },
  {
   "cell_type": "code",
   "execution_count": 19,
   "metadata": {},
   "outputs": [
    {
     "name": "stdout",
     "output_type": "stream",
     "text": [
      "Source/006/服の着替はレムが….mp3\n",
      "Source/006/急いでお支度を….mp3\n",
      "Source/006/寝癖がすごくて、よだれの.mp3\n",
      "Source/006/嫌いじゃありませんけど….mp3\n",
      "Source/006/こうしている時間も….mp3\n",
      "Source/006/本当に困った人ですね….mp3\n",
      "Source/006/そろそろ起きてくれないと.mp3\n",
      "Source/006/遅刻してしまいますよ。.mp3\n",
      "Source/006/レムも手伝いましょうか？.mp3\n",
      "Source/006/今朝の着替えは一人で大丈.mp3\n",
      "Source/006/姉様に怒られてしまいます.mp3\n",
      "Source/006/これ以上遅れると….mp3\n",
      "Source/006/もう、いけませんよ。.mp3\n",
      "Source/006/いえ、こっちの話です。.mp3\n",
      "Source/006/赤ん坊みたいな寝顔。.mp3\n",
      "Source/006/でも可愛らしかったです。.mp3\n",
      "Source/006/おはようございます。.mp3\n",
      "Source/006/へえ、私を召喚したのか。.mp3\n",
      "Source/006/司馬懿「そうだ、このよう.mp3\n",
      "Source/006/ライネス「図り、謀り、陥.mp3\n",
      "Source/006/ライネス「戦いは結果だけ.mp3\n",
      "Source/006/ライネス「ちっ、ここまで.mp3\n",
      "Source/006/ライネス「あぁっ！」.mp3\n",
      "Source/006/ライネス「くそっ、手加減.mp3\n",
      "Source/006/司馬懿「勝負に奇計も切り.mp3\n"
     ]
    }
   ],
   "source": [
    "from pydub import AudioSegment\n",
    "from pydub.silence import split_on_silence\n",
    "import os\n",
    "\n",
    "sourceFolder = \"Source\"\n",
    "targetFolder = \"VoiceSample\"\n",
    "\n",
    "folders = os.listdir(sourceFolder)\n",
    "\n",
    "#Sourceフォルダ内のフォルダを順に処理\n",
    "for folder in folders:\n",
    "    srcFolderPath = os.path.join(sourceFolder, folder)\n",
    "    tarFolderPath = os.path.join(targetFolder, folder)\n",
    "    files = os.listdir(srcFolderPath)\n",
    "\n",
    "    for f in files:\n",
    "        path = os.path.join(srcFolderPath, f)\n",
    "        fileName = f[:len(f) - 4]\n",
    "\n",
    "        if os.path.isdir(path) | (f == \".gitkeep\"):\n",
    "            continue\n",
    "\n",
    "        print(path)\n",
    "        # wavファイルのデータ取得\n",
    "        sound = AudioSegment.from_file(path)\n",
    "\n",
    "        # wavデータの分割（無音部分で区切る）\n",
    "        chunks = split_on_silence(sound, min_silence_len=500, silence_thresh=-40, keep_silence=500)\n",
    "\n",
    "        if(not os.path.exists(tarFolderPath)):\n",
    "            os.mkdir(tarFolderPath)\n",
    "\n",
    "        # 分割したデータ毎にファイルに出力\n",
    "        for i, chunk in enumerate(chunks):\n",
    "            chunk.export(tarFolderPath + \"/\" + fileName + \"-\" + str(i) +\".wav\", format=\"wav\")\n",
    "        \n",
    "        # Sourceファイルを削除\n",
    "        os.remove(path)"
   ]
  }
 ],
 "metadata": {
  "kernelspec": {
   "display_name": "voicepro",
   "language": "python",
   "name": "python3"
  },
  "language_info": {
   "codemirror_mode": {
    "name": "ipython",
    "version": 3
   },
   "file_extension": ".py",
   "mimetype": "text/x-python",
   "name": "python",
   "nbconvert_exporter": "python",
   "pygments_lexer": "ipython3",
   "version": "3.9.2"
  },
  "orig_nbformat": 4,
  "vscode": {
   "interpreter": {
    "hash": "0f851e7d60498e4c856c45d591b0ef68acd2607c354303225ef1533b02fefcf2"
   }
  }
 },
 "nbformat": 4,
 "nbformat_minor": 2
}
